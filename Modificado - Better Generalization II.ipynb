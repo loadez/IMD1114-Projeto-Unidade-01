{
  "nbformat": 4,
  "nbformat_minor": 0,
  "metadata": {
    "colab": {
      "name": "Lesson #03_04 Task #02 Better Generalization II.ipynb",
      "provenance": [],
      "collapsed_sections": [
        "myDHjbAjL-g3"
      ]
    },
    "kernelspec": {
      "name": "python3",
      "display_name": "Python 3"
    },
    "accelerator": "GPU"
  },
  "cells": [
    {
      "cell_type": "markdown",
      "metadata": {
        "id": "1j_KXUOdCGMe"
      },
      "source": [
        "# 1 Introduction"
      ]
    },
    {
      "cell_type": "markdown",
      "metadata": {
        "id": "fJH-P4J5CePE"
      },
      "source": [
        "In this lesson, you will continue to discover techniques to **improve the optimization** problem of adapting neural network model weights to learn a training dataset. Furthermore, it will be presented techniques that you can use to reduce overfitting and **improve the generalization** of your deep learning neural network models. After complete this study, you will know:\n",
        "\n",
        "- Improve the generalization\n",
        "  - How techniques that reduce model complexity have a **regularizing** effect resulting in less overtting and better generalization.\n",
        "  - How to add a **penalty to the loss function** to encourage **smaller model weights (L2)**.\n",
        "  - How to add a **penalty to the loss function** to encourage **sparse internal representations (L1)**.\n",
        "  - How to add a **constraint to the model** to force **small model weights** and lower complexity models.\n",
        "  - How to add **dropout** weights during training to decouple model layers.\n",
        "  - How to **add noise** to the training process to promote model robustness.\n",
        "  - How to use **early stopping** to halt model training at the right time.\n",
        "\n"
      ]
    },
    {
      "cell_type": "markdown",
      "metadata": {
        "id": "myDHjbAjL-g3"
      },
      "source": [
        "# 2 Better Generalization"
      ]
    },
    {
      "cell_type": "markdown",
      "metadata": {
        "id": "HqGNfmJaQNgR"
      },
      "source": [
        "## 2.1 Fix overfitting with regularization"
      ]
    },
    {
      "cell_type": "markdown",
      "metadata": {
        "id": "JxgfftXLMIUW"
      },
      "source": [
        "Training a deep neural network that can generalize well to new data is a challenging problem. A model with too little capacity cannot learn the problem, whereas a model with too much capacity can learn it too well and overfit the training dataset. Both cases result in a model that does not generalize well. \n",
        "\n",
        "> A modern approach to reducing generalization error is to use a larger model that may be required to use **regularization during training** that keeps the model's weights small. \n",
        "\n",
        "These techniques reduce overfitting and lead to faster optimization of the model and better overall performance. This section will discover the problem of overfitting when training neural networks and how it can be addressed with regularization methods. After reading this section, you will know:\n",
        "\n",
        "- **Underfitting can quickly** be addressed by increasing the network's capacity, but overfitting requires the use of specialized techniques.\n",
        "- Regularization methods like **weight decay** provide an easy way to **control overfitting** for sizeable neural network models.\n",
        "- A modern recommendation for regularization is to use **early stopping** with **dropout** and a **weight constraint**."
      ]
    },
    {
      "cell_type": "markdown",
      "metadata": {
        "id": "m9BCJtoDPcEE"
      },
      "source": [
        "### 2.1.1 Problem of model generalization and overfitting"
      ]
    },
    {
      "cell_type": "markdown",
      "metadata": {
        "id": "gZMCZ4S9QnD4"
      },
      "source": [
        "A neural network's objective is to have a final model that performs well on the data that we used to train it (e.g., the training dataset) and the new data on which the model will be used to make predictions.\n",
        "\n",
        "> The central challenge in machine learning is that we must perform well on new, previously unseen inputs - not just those on which our model was trained. The ability to perform well on previously unobserved inputs is called **generalization**.\n",
        "\n",
        "We require that the model learn from known examples and generalize them to new examples in the future. We use methods like a train/test split or k-fold cross-validation to estimate the model's ability to generalize to new data. **learning and also generalizing to new cases is challenging**. \n",
        "\n",
        "Too little learning and the model will perform poorly on\n",
        "the training dataset and on new data. **The model will underfit the problem**. \n",
        "\n",
        "Too much learning and the model will perform well on the training dataset and poorly on new data, the model will **overfit the problem**. In both cases, the model has not been generalized.\n",
        "\n"
      ]
    },
    {
      "cell_type": "markdown",
      "metadata": {
        "id": "3n_1Exr1RAMr"
      },
      "source": [
        "A model fit can be considered in the context of the <font color=\"red\">bias-variance trade-off</font>. \n",
        "\n",
        "> An underfit model has high bias and low variance. \n",
        "\n",
        "Regardless of the specific samples in the training data, it cannot learn the problem. \n",
        "> An overfit model has low bias and high variance. \n",
        "\n",
        "The model learns the training data too well and performance varies widely with new unseen examples or even statistical noise added to examples in the training dataset.\n",
        "\n",
        "**We can address underfitting by increasing the capacity of the model**. \n",
        "\n",
        "> Capacity refers to a model's ability to fit a variety of functions; more capacity means that a model can fit more types of functions for mapping inputs to outputs. \n",
        "\n",
        "Increasing the capacity of a model is\n",
        "easily achieved by changing the structure of the model, such as adding more layers and/or more nodes to layers. Because an underfit model is so easily addressed, it is more common to have an\n",
        "overfit model. \n",
        "\n",
        "**An overfit model is easily diagnosed by monitoring the model's performance during training** by evaluating both a training dataset and a holdout validation dataset. Graphing line plots of the performance of the model during training, called learning curves, will show a familiar pattern."
      ]
    },
    {
      "cell_type": "markdown",
      "metadata": {
        "id": "Zu7A6rjJUFR7"
      },
      "source": [
        "### 2.1.2 Reduce Overfitting by Constraining Complexity"
      ]
    },
    {
      "cell_type": "markdown",
      "metadata": {
        "id": "gGuwOTt1VjD4"
      },
      "source": [
        "There are two ways to approach an overfit model:\n",
        "\n",
        "1. Reduce overfitting by training the network on more examples.\n",
        "2. Reduce overfitting by changing the complexity of the network.\n",
        "\n",
        "A benefit of very deep neural networks is that their performance improves as they are fed larger and larger datasets. A model with a near-infinite number of examples will eventually plateau in terms of the network's capacity is capable of learning. **A model can overfit a training dataset because it has sufficient capacity to do so**. Reducing the model's capacity reduces the likelihood of the model overfitting the training dataset to a point where it no longer overfits. The capacity of a neural network model, its complexity, is defined by its structure in terms of nodes and layers and the parameters in terms of its weights. Therefore, **we can reduce the complexity of a neural network to reduce overfitting in one of two\n",
        "ways**:\n",
        "\n",
        "1. Change network complexity by changing the network structure (number of weights).\n",
        "2. Change network complexity by changing the network parameters (values of weights)."
      ]
    },
    {
      "cell_type": "markdown",
      "metadata": {
        "id": "ywdlx84PWcNn"
      },
      "source": [
        "For example, the structure could be tuned via grid search until a suitable number of nodes and/or layers are found to reduce or remove overfitting for the problem. Alternately, the model could be overfitted and pruned by removing nodes until it achieves suitable performance on\n",
        "a validation dataset. It is more common to instead constrain the model's complexity by **ensuring the parameters (weights) of the model remain small**. Small parameters suggest a less complex and, in turn, more stable model that is less sensitive to statistical fluctuations in the\n",
        "input data.\n",
        "\n",
        "> **Regularization** is any modification we make to a learning algorithm that is intended to **reduce its generalization error** but not its training error. Regularization is one of the central concerns of the \ffield of machine learning, rivaled in its importance only by optimization."
      ]
    },
    {
      "cell_type": "markdown",
      "metadata": {
        "id": "09noDgveYnBn"
      },
      "source": [
        "### 2.1.3 Regularization Methods for Neural Networks"
      ]
    },
    {
      "cell_type": "markdown",
      "metadata": {
        "id": "5SKjJYg_u4ka"
      },
      "source": [
        "The simplest and perhaps **most common regularization method** is to **add a penalty to the loss function** in proportion to the weights' size in the model.\n",
        "\n",
        "\n",
        "<font color=\"red\">Weight Regularization:</font> Penalize the model during training **based on the magnitude of the weights**.\n",
        "\n",
        "> This will encourage the model to map the inputs to the outputs of the training dataset so that the weights of the model are kept small. This approach is called weight regularization of **weight decay** and has proven very effective for decades for both more straightforward linear\n",
        "models and neural networks.\n",
        "\n",
        "Below is a list of \ffive of the most common additional regularization methods.\n",
        "\n",
        "- **Activity Regularization**: Penalize the model during training based on the magnitude\n",
        "of the activations.\n",
        "- **Weight Constraint**: Constrain the magnitude of weights to be within a range or below a limit.\n",
        "- **Dropout**: Probabilistically remove inputs during training.\n",
        "- **Noise**: Add statistical noise to inputs during training.\n",
        "- **Early Stopping**: Monitor model performance on a validation set and stop training when performance degrades.\n",
        "\n",
        "Some more specific recommendations include:\n",
        "\n",
        "- **Classical**: use early stopping and weight decay (L2 weight regularization).\n",
        "- **Alternate**: use early stopping and added noise with a weight constraint.\n",
        "- **Modern**: use early stopping and dropout, in addition to a weight constraint."
      ]
    },
    {
      "cell_type": "markdown",
      "metadata": {
        "id": "jiLxRt2kA3a4"
      },
      "source": [
        "## 2.2 Penalize Large Weights with Weight Regularization"
      ]
    },
    {
      "cell_type": "markdown",
      "metadata": {
        "id": "L6wdExEGoHCL"
      },
      "source": [
        "Neural networks learn a set of weights that best map inputs to outputs. **A network with large network weights can sign an unstable network** where small changes in the input can lead to large changes in the output. This can signify that the network has overfitted the training dataset and will likely perform poorly when making predictions on new data. \n",
        "\n",
        "A solution to this problem is to update the learning algorithm to encourage the network to keep the weights small. This is called **weight regularization**, and it can be used as a general technique to reduce\n",
        "the overfitting of the training dataset and improve the model's generalization. In this section, you will discover weight regularization as an approach to reduce overfitting for neural networks. After reading this tutorial, you will know:\n",
        "\n",
        "- Large weights in a neural network signify a more complex network that has overfit the training data.\n",
        "- Penalizing a network based on the size of the network weights during training can reduce overfitting.\n",
        "- An L1 or L2 vector norm penalty can be added to the network's optimization to encourage smaller weights.\n",
        "\n"
      ]
    },
    {
      "cell_type": "markdown",
      "metadata": {
        "id": "M0gLxANIqdc0"
      },
      "source": [
        "### 2.2.1 Weight Regularization\n"
      ]
    },
    {
      "cell_type": "markdown",
      "metadata": {
        "id": "p7m2JsXFrFU0"
      },
      "source": [
        "When fitting a neural network model, we must learn the network's weights (i.e., the model parameters) using stochastic gradient descent and the training dataset. The longer we train the network, the more specialized the weights will become to the training data, overfitting the training data. The weights will grow in size to handle the specifics of the examples seen\n",
        "in the training data. **Large weights make the unstable network**. Although the weights will be specialized to the training dataset, minor variation or statistical noise on the expected inputs will result in large differences in the output.\n",
        "\n",
        "Generally, **we refer to this model as having a large variance and a small bias**. That is, the model is sensitive to the specific examples, the statistical noise, in the training dataset. \n",
        "\n",
        "> A model with large weights is more complex than a model with smaller weights. \n",
        "\n",
        "It is a sign of a network that may be overly specialized to training data. In practice, we prefer to choose the simpler\n",
        "models to solve a problem. **We prefer models with smaller weights**.\n",
        "\n",
        "Another possible issue is that there may be many input variables, each with different relevance levels to the output variable. Sometimes we can use methods to help select input variables, but the interrelationships between variables are often not obvious. **Having small weights\n",
        "or even zero weights for less relevant or irrelevant inputs to the network will allow the model to focus on learning**. This, too, will result in a simpler model."
      ]
    },
    {
      "cell_type": "markdown",
      "metadata": {
        "id": "8g4sj4WBsSJ7"
      },
      "source": [
        "### 2.2.2 Encourage Small Weights"
      ]
    },
    {
      "cell_type": "markdown",
      "metadata": {
        "id": "UYpU1Cmquwee"
      },
      "source": [
        "The learning algorithm can be updated to encourage the network toward using small weights. One way to do this is to change the calculation of loss used in the network's optimization to consider the weights' size. Remember that we minimize a loss function when we train a neural network, such as the log loss in classification or mean squared error in regression. **We can add the current size of all weights in the network** or add a layer to this calculation in calculating the loss between the predicted and expected values in a batch. **This is called a penalty because we are penalizing the model proportional to the size of the weights in the model.**\n",
        "\n",
        "> Many regularization approaches are based on limiting the capacity of models, such\n",
        "as neural networks, linear regression, or logistic regression, by adding a [...] penalty to the objective function."
      ]
    },
    {
      "cell_type": "markdown",
      "metadata": {
        "id": "zN_QsdMNvkJH"
      },
      "source": [
        "**Larger weights result in a larger penalty in the form of a larger loss score.** The optimization algorithm will then push the model to have smaller weights, i.e., weights no larger than needed to perform well on the training dataset. \n",
        "\n",
        "**Smaller weights are considered more regular or less specialized**, and as such, we refer to this penalty as **weight regularization**. When this approach of penalizing model coefficients is used in other machine learning models such as linear regression or logistic regression, it may be referred to as **shrinkage** because the penalty encourages the\n",
        "coefficients shrink during the optimization process.\n",
        "\n",
        "> The addition of a weight size penalty or weight regularization to a neural network has the effect of reducing generalization error and of allowing the model to pay less attention to less relevant input variables."
      ]
    },
    {
      "cell_type": "markdown",
      "metadata": {
        "id": "Q2c3NsP_9tQZ"
      },
      "source": [
        "### 2.2.3 How to Penalize Large Weights"
      ]
    },
    {
      "cell_type": "markdown",
      "metadata": {
        "id": "1cCNbFwNCd_L"
      },
      "source": [
        "There are two parts to penalizing the model based on the size of the weights. The first is the calculation of the **size of the weights**, and the second is **the amount of attention** that the optimization process should pay to the penalty.\n",
        "\n",
        "**Calculate Weight Size**\n",
        "\n",
        "Neural network weights are real-values that can be positive or negative, as such, simply adding the weights is not sufficient. There are two main approaches used to calculate the size of the weights, they are:\n",
        "\n",
        "- Calculate the sum of the absolute values of the weights, called the L1 norm (or $L^1$).\n",
        "- Calculate the sum of the squared values of the weights, called the L2 norm (or $L^2$).\n",
        "\n",
        "> L1 encourages weights to 0.0 if possible, resulting in more sparse weights (weights with more 0.0 values). \n",
        "\n",
        "> L2 offers more nuance, both penalizing larger weights more severely but resulting in less sparse weights. \n",
        "\n",
        "The use of L2 in linear and logistic regression is often referred to as **Ridge Regression**. This is useful when trying to develop an intuition for the penalty or examples of its usage.\n",
        "\n",
        "**Control Impact of the Penalty**\n",
        "\n",
        "The calculated size of the weights is added to the loss objective function when training the network. Rather than adding each weight to the penalty directly, they can be weighted using a new hyperparameter called alpha ($\\alpha$) or sometimes lambda. \n",
        "\n",
        "This controls the amount of attention that the learning process should pay to the penalty. Put another way, the amount to penalize the model based on the size of the weights. \n",
        "\n",
        "> The $\\alpha$ hyperparameter has a value between 0.0 (no penalty) and 1.0 (full penalty). This hyperparameter controls the model's amount of bias from 0.0, or low bias (high variance), to 1.0, or high bias (low variance).\n",
        "\n",
        "- If the penalty is too strong, the model will underestimate the weights and underfit the problem. \n",
        "- If the penalty is too weak, the model will be allowed to overfit the training data. \n",
        "\n",
        "The vector norm of the weights is often calculated per-layer rather than across the entire network.\n",
        "\n",
        "This allows more flexibility in the choice of the type of regularization used (e.g., L1 for inputs, L2 elsewhere) and flexibility in the $\\alpha$ value, although **it is common to use the same $\\alpha$\n",
        "value on each layer by default.**"
      ]
    },
    {
      "cell_type": "markdown",
      "metadata": {
        "id": "o0IXgMkMDjfl"
      },
      "source": [
        "### 2.2.4 Weight Regularization Case Study"
      ]
    },
    {
      "cell_type": "markdown",
      "metadata": {
        "id": "1qkvQsvzFr02"
      },
      "source": [
        "This section will **demonstrate how to use weight regularization** to reduce the overfitting of an MLP on a simple binary classification problem. This example provides a template for applying weight regularization to your neural network for classification and regression problems."
      ]
    },
    {
      "cell_type": "code",
      "metadata": {
        "id": "QxqFFjBDlI9U",
        "colab": {
          "base_uri": "https://localhost:8080/",
          "height": 265
        },
        "outputId": "9ab10c8d-35a5-4621-e327-53ef4b338d35"
      },
      "source": [
        "# scatter plot of moons dataset\n",
        "from sklearn.datasets import make_moons\n",
        "import matplotlib.pyplot as plt\n",
        "import numpy as np\n",
        "\n",
        "# generate 2d classification dataset\n",
        "x, y = make_moons(n_samples=100, noise=0.2, random_state=1)\n",
        "\n",
        "# scatter plot for each class value\n",
        "for class_value in range(2):\n",
        "\t# select indices of points with the class label\n",
        "\trow_ix = np.where(y == class_value)\n",
        "\t# scatter plot for points with a different color\n",
        "\tplt.scatter(x[row_ix, 0], x[row_ix, 1])\n",
        "\n",
        "# show plot\n",
        "plt.show()"
      ],
      "execution_count": 1,
      "outputs": [
        {
          "output_type": "display_data",
          "data": {
            "image/png": "[encoded data removed]",
            "text/plain": [
              "<Figure size 432x288 with 1 Axes>"
            ]
          },
          "metadata": {
            "tags": [],
            "needs_background": "light"
          }
        }
      ]
    },
    {
      "cell_type": "markdown",
      "metadata": {
        "id": "4P3caslF-NaQ"
      },
      "source": [
        "#### 2.2.4.1 Overfit Multilayer Perceptron Model"
      ]
    },
    {
      "cell_type": "markdown",
      "metadata": {
        "id": "BgnLP85r-uRz"
      },
      "source": [
        "We can develop an MLP model to address this binary classification problem. The model will have one hidden layer with more nodes required to solve this problem, providing an opportunity to overfit. We will also train the model for longer than is necessary to ensure the model overfits. Before defining the model, we will split the dataset into train and test sets, using 30 examples to train the model and 70 to evaluate the t model's performance."
      ]
    },
    {
      "cell_type": "code",
      "metadata": {
        "id": "EOw0_X0HSlqP"
      },
      "source": [
        "import tensorflow as tf\n",
        "early = tf.keras.callbacks.EarlyStopping(\n",
        "    monitor='val_loss', patience=200, verbose=1,\n",
        "    mode='auto', restore_best_weights=True\n",
        ")"
      ],
      "execution_count": 4,
      "outputs": []
    },
    {
      "cell_type": "code",
      "metadata": {
        "id": "goAvXMI5_NAu",
        "colab": {
          "base_uri": "https://localhost:8080/",
          "height": 348
        },
        "outputId": "b9ea0db9-2745-4ed6-dd42-70ae5819209a"
      },
      "source": [
        "# overfit mlp for the moons dataset\n",
        "from sklearn.datasets import make_moons\n",
        "from tensorflow.keras.models import Sequential\n",
        "from tensorflow.keras.layers import Dense\n",
        "from tensorflow.keras.layers import Dropout\n",
        "import matplotlib.pyplot as plt\n",
        "\n",
        "# generate 2d classification dataset\n",
        "x, y = make_moons(n_samples=100, noise=0.2, random_state=1)\n",
        "\n",
        "# split into train and test sets\n",
        "n_train = 30\n",
        "train_x, test_x = x[:n_train, :], x[n_train:, :]\n",
        "train_y, test_y = y[:n_train], y[n_train:]\n",
        "\n",
        "# define model\n",
        "model = Sequential()\n",
        "model.add(Dense(500, input_dim=2, activation='relu'))\n",
        "model.add(Dropout(0.1))\n",
        "model.add(Dense(1, activation='sigmoid'))\n",
        "model.compile(loss='binary_crossentropy', optimizer='adam', metrics=['accuracy'])\n",
        "\n",
        "# fit model\n",
        "history = model.fit(train_x, train_y,\n",
        "                    validation_data=(test_x, test_y), \n",
        "                    epochs=4000, verbose=0,batch_size=32,\n",
        "                    callbacks=[early])\n",
        "\n",
        "# evaluate the model\n",
        "_, train_acc = model.evaluate(train_x, train_y, verbose=0)\n",
        "_, test_acc = model.evaluate(test_x, test_y, verbose=0)\n",
        "print('Train: %.3f, Test: %.3f' % (train_acc, test_acc))\n",
        "\n",
        "# plot loss learning curves\n",
        "plt.subplot(211)\n",
        "plt.title('Cross-Entropy Loss', pad=-40)\n",
        "plt.plot(history.history['loss'], label='train')\n",
        "plt.plot(history.history['val_loss'], label='test')\n",
        "plt.legend()\n",
        "\n",
        "# plot accuracy learning curves\n",
        "plt.subplot(212)\n",
        "plt.title('Accuracy', pad=-40)\n",
        "plt.plot(history.history['accuracy'], label='train')\n",
        "plt.plot(history.history['val_accuracy'], label='test')\n",
        "plt.legend()\n",
        "plt.tight_layout()\n",
        "plt.show()"
      ],
      "execution_count": 7,
      "outputs": [
        {
          "output_type": "stream",
          "text": [
            "Restoring model weights from the end of the best epoch.\n",
            "Epoch 01171: early stopping\n",
            "Train: 1.000, Test: 0.929\n"
          ],
          "name": "stdout"
        },
        {
          "output_type": "display_data",
          "data": {
            "image/png": "[encoded data removed]",
            "text/plain": [
              "<Figure size 432x288 with 2 Axes>"
            ]
          },
          "metadata": {
            "tags": [],
            "needs_background": "light"
          }
        }
      ]
    },
    {
      "cell_type": "markdown",
      "metadata": {
        "id": "VSVkM1FPAba5"
      },
      "source": [
        "Line plots showing learning curves of cross-entropy loss and classification accuracy on the train and test sets for each training epoch are also created. **The learning curve for loss shows a clear overfitting pattern**, mirrored in the learning curve for the classification accuracy."
      ]
    },
    {
      "cell_type": "markdown",
      "metadata": {
        "id": "vL4UaPfgB-6L"
      },
      "source": [
        "#### 2.2.4.2 MLP Model With Weight Regularization"
      ]
    },
    {
      "cell_type": "code",
      "metadata": {
        "id": "51wxbEf8CEXw"
      },
      "source": [
        "# mlp with weight regularization for the moons dataset\n",
        "from sklearn.datasets import make_moons\n",
        "from tensorflow.keras.models import Sequential\n",
        "from tensorflow.keras.layers import Dense\n",
        "from tensorflow.keras.regularizers import l2\n",
        "import matplotlib.pyplot as plt\n",
        "\n",
        "# generate 2d classification dataset\n",
        "x, y = make_moons(n_samples=100, noise=0.2, random_state=1)\n",
        "\n",
        "# split into train and test sets\n",
        "n_train = 30\n",
        "train_x, test_x = x[:n_train, :], x[n_train:, :]\n",
        "train_y, test_y = y[:n_train], y[n_train:]\n",
        "\n",
        "# define model\n",
        "model = Sequential()\n",
        "model.add(Dense(500, input_dim=2, activation='relu',\n",
        "                kernel_regularizer=l2(0.001)))\n",
        "model.add(Dropout(0.1))\n",
        "model.add(Dense(1, activation='sigmoid'))\n",
        "model.compile(loss='binary_crossentropy', optimizer='adam', metrics=['accuracy'])\n",
        "\n",
        "# fit model\n",
        "history = model.fit(train_x, train_y, \n",
        "                    validation_data=(test_x, test_y),\n",
        "                    epochs=4000, verbose=0, callbacks=[early])\n",
        "\n",
        "# evaluate the model\n",
        "_, train_acc = model.evaluate(train_x, train_y, verbose=0)\n",
        "_, test_acc = model.evaluate(test_x, test_y, verbose=0)\n",
        "print('Train: %.3f, Test: %.3f' % (train_acc, test_acc))\n",
        "\n",
        "# plot loss learning curves\n",
        "plt.subplot(211)\n",
        "plt.title('Cross-Entropy Loss', pad=-40)\n",
        "plt.plot(history.history['loss'], label='train')\n",
        "plt.plot(history.history['val_loss'], label='test')\n",
        "plt.legend()\n",
        "\n",
        "# plot accuracy learning curves\n",
        "plt.subplot(212)\n",
        "plt.title('Accuracy', pad=-40)\n",
        "plt.plot(history.history['accuracy'], label='train')\n",
        "plt.plot(history.history['val_accuracy'], label='test')\n",
        "plt.legend()\n",
        "plt.tight_layout()\n",
        "plt.show()"
      ],
      "execution_count": null,
      "outputs": []
    },
    {
      "cell_type": "markdown",
      "metadata": {
        "id": "yWzPS5HwC5V0"
      },
      "source": [
        "We would expect that it would have also changed the telltale learning curve for overfitting through weight regularization. Instead of improving the model's accuracy on the test set increasing and then decreasing again, we should see it continually rise during training. As expected, we see the learning curves for loss and accuracy on the test dataset plateau, indicating that the model has no longer overt the training dataset."
      ]
    },
    {
      "cell_type": "markdown",
      "metadata": {
        "id": "XUhIZfm9H-dA"
      },
      "source": [
        "#### 2.2.4.3 Grid Search Regularization Hyperparameter"
      ]
    },
    {
      "cell_type": "code",
      "metadata": {
        "id": "kd-uLFuGIHbo"
      },
      "source": [
        "# grid search regularization values for moons dataset\n",
        "from sklearn.datasets import make_moons\n",
        "from tensorflow.keras.layers import Dense\n",
        "from tensorflow.keras.models import Sequential\n",
        "from tensorflow.keras.regularizers import l2\n",
        "import matplotlib.pyplot as plt\n",
        "\n",
        "# generate 2d classification dataset\n",
        "x, y = make_moons(n_samples=100, noise=0.2, random_state=1)\n",
        "\n",
        "# split into train and test\n",
        "n_train = 30\n",
        "train_x, test_x = x[:n_train, :], x[n_train:, :]\n",
        "train_y, test_y = y[:n_train], y[n_train:]\n",
        "\n",
        "# grid search values\n",
        "values = [1e-1, 1e-2, 1e-3, 1e-4, 1e-5, 1e-6]\n",
        "all_train, all_test = list(), list()\n",
        "for param in values:\n",
        "\t# define model\n",
        "\tmodel = Sequential()\n",
        "\tmodel.add(Dense(500, input_dim=2, activation='relu', kernel_regularizer=l2(param)))\n",
        "  model.add(Dropout(0.1))\n",
        "\tmodel.add(Dense(1, activation='sigmoid'))\n",
        "\tmodel.compile(loss='binary_crossentropy', optimizer='adam', metrics=['accuracy'])\n",
        "\t\n",
        "  # fit model\n",
        "\tmodel.fit(train_x, train_y, epochs=4000, verbose=0, callbacks=[early])\n",
        " \n",
        "\t# evaluate the model\n",
        "\t_, train_acc = model.evaluate(train_x, train_y, verbose=0)\n",
        "\t_, test_acc = model.evaluate(test_x, test_y, verbose=0)\n",
        "\tprint('Param: %f, Train: %.3f, Test: %.3f' % (param, train_acc, test_acc))\n",
        "\tall_train.append(train_acc)\n",
        "\tall_test.append(test_acc)\n",
        " \n",
        "# plot train and test means\n",
        "plt.semilogx(values, all_train, label='train', marker='o')\n",
        "plt.semilogx(values, all_test, label='test', marker='o')\n",
        "plt.legend()\n",
        "plt.show()"
      ],
      "execution_count": null,
      "outputs": []
    },
    {
      "cell_type": "markdown",
      "metadata": {
        "id": "DsnklaweK3l2"
      },
      "source": [
        "A line plot of the results is also created, showing the increase in test accuracy with larger weight regularization parameter values, at least to a point. We can see that using the largest value of 0.1 results in a large drop in both train and test accuracy."
      ]
    },
    {
      "cell_type": "markdown",
      "metadata": {
        "id": "al_KOvFXMQVD"
      },
      "source": [
        "## 2.3 Force Small Weights with Weight Constraints"
      ]
    },
    {
      "cell_type": "markdown",
      "metadata": {
        "id": "YdY7SRadMUvD"
      },
      "source": [
        "Weight regularization methods like weight decay introduce a penalty to the loss function when training a neural network to encourage the network to use small weights. Smaller weights in a neural network can result in a model that is more stable and less likely to overfit the training\n",
        "dataset, in turn, have better performance when making a prediction on new data. \n",
        "\n",
        "> Unlike weight regularization, a weight constraint is a trigger that checks the size or magnitude of the weights and scales them so that they are all below a pre-defined threshold. \n",
        "\n",
        "The constraint forces weights to be small and can be used instead of weight decay and in conjunction with more aggressive network configurations, such as very large learning rates. **In this section, you\n",
        "will discover the use of weight constraint regularization as an alternative to weight penalties to reduce overfitting in deep neural networks**. After reading this section, you will know:\n",
        "\n",
        "- Weight penalties encourage but do not require neural networks to have small weights.\n",
        "- Weight constraints, such as the L2 norm and maximum norm, can be used to force neural networks to have small weights during training.\n",
        "- Weight constraints can improve generalization when used in conjunction with other regularization methods like a dropout."
      ]
    },
    {
      "cell_type": "markdown",
      "metadata": {
        "id": "cgbX6JEONhax"
      },
      "source": [
        "### 2.3.1 Weight Constraints"
      ]
    },
    {
      "cell_type": "markdown",
      "metadata": {
        "id": "da59TDvvQhUL"
      },
      "source": [
        "In this section you will discover the problem with neural networks that have large weighs, a technique that you can use to force the development of models with small weights called **weight\n",
        "constraints** and tips for using this technique in your own projects."
      ]
    },
    {
      "cell_type": "markdown",
      "metadata": {
        "id": "zJV5ijosQtru"
      },
      "source": [
        "#### 2.3.1.1 Alternative to penalties for large weights"
      ]
    },
    {
      "cell_type": "markdown",
      "metadata": {
        "id": "wd8Kcjl7Q7I_"
      },
      "source": [
        "**Large weights in a neural network are a sign of overfitting**. A network with large weights has very likely learned the statistical noise in the training data. This results in a model that is unstable and very sensitive to changes to the input variables. \n",
        "\n",
        "> In turn, the overfit network\n",
        "has poor performance when making predictions on new unseen data. \n",
        "\n",
        "A popular and effective technique to address the problem is to update the loss function that is optimized during training to take the size of the weights into account.\n",
        "\n",
        "This is called a penalty, as the larger the weights of the network become, the more the network is penalized, resulting in larger loss and, in turn, larger updates. The effect is that the penalty encourages weights to be small or no larger than is required during the training process, in turn reducing overfitting. \n",
        "\n",
        "> A problem in using a penalty is that although it does encourage the network toward smaller weights, it does not force smaller weights. **A neural network trained with weight regularization penalty may still allow large weights, in some cases very large weights.**\n"
      ]
    },
    {
      "cell_type": "markdown",
      "metadata": {
        "id": "MEyokKmHRTpa"
      },
      "source": [
        "#### 2.3.1.2 Force Small Weights"
      ]
    },
    {
      "cell_type": "markdown",
      "metadata": {
        "id": "yP1S-KWQSyKv"
      },
      "source": [
        "**An alternate solution to using a penalty for the size of network weights is to use a weight constraint**. A weight constraint is an update to the network that checks the size of the weights (e.g., their vector norm), and if the size exceeds a predefined limit, the weights are rescaled so\n",
        "that their size is below the limit or between a range. You can think of a weight constraint as an if-then rule checking the size of the weights while the network is being trained and only coming into effect and making weights small when required. Note, for efficiency; it does not have to be\n",
        "implemented as an if-then rule and often is not.\n",
        "\n",
        "Unlike adding a penalty to the loss function, a weight constraint ensures the weights of the network are small instead of merely encouraging them to be small. It can be useful on those problems or with networks that resist other regularization methods, such as weight penalties. Weight constraints prove especially useful when you have configured your network to use alternative regularization methods to weight regularization and yet still desire the network to have small weights in order to reduce overfitting. \n",
        "\n",
        "> One often-cited example is the use of a **weight constraint regularization with dropout regularization**."
      ]
    },
    {
      "cell_type": "markdown",
      "metadata": {
        "id": "ioas878TTHME"
      },
      "source": [
        "#### 2.3.1.3 How to use a weight constraint"
      ]
    },
    {
      "cell_type": "markdown",
      "metadata": {
        "id": "dwFnIKVaT-bA"
      },
      "source": [
        "A constraint is enforced on each node within a layer. All nodes within the layer use the same constraint, and often multiple hidden layers within the same network will use the same constraint.\n",
        "\n",
        "Recall that when we talk about the vector norm in general, that this is the magnitude of the vector of weights in a node, and by default, is calculated as the L2 norm, e.g., the square root of the sum of the squared values in the vector. Some examples of constraints that could be used\n",
        "include:\n",
        "\n",
        "- Force the vector norm to be 1.0 (e.g., the unit norm).\n",
        "- Limit the maximum size of the vector norm (e.g., the maximum norm).\n",
        "- Limit the minimum and maximum size of the vector norm (e.g., the min-max norm).\n",
        "\n",
        "The **maximum norm**, also called max-norm or maxnorm, is a popular constraint because it is less aggressive than other norms such as the unit norm, simply setting an upper bound.\n",
        "\n",
        "When **using a limit or a range**, a hyperparameter must be specified. Given that weights are small, the hyperparameter, too, is often a small integer value, such as a value between 1 and 4.\n",
        "\n",
        "If the **norm exceeds the specified range or limit**, the weights are rescaled or normalized such that their magnitude is below the specified parameter or within the specified range.\n",
        "\n",
        "> The constraint can be applied after each update to the weights, e.g., at the end of each minibatch."
      ]
    },
    {
      "cell_type": "markdown",
      "metadata": {
        "id": "q5ra7V6tW4rB"
      },
      "source": [
        "The Keras API supports weight constraints. The constraints are specified per-layer but applied and enforced per-node within the layer. Using a constraint generally involves setting the **kernel\\_constraint** argument on the layer for the input weights and the **bias\\_constraint** for the bias weights. **Generally, weight constraints are not used on the bias weights**. A suite of different vector norms can be used as constraints, provided as classes in the **keras.constraints** module. They are:\n",
        "\n",
        "- **Maximum norm** (max\\_norm), to force weights to have a magnitude at or below a given limit.\n",
        "- **Non-negative norm** (non\\_neg), to force weights to have a positive magnitude.\n",
        "- **Unit norm** (unit\\_norm), to force weights to have a magnitude of 1.0.\n",
        "- **Min-Max norm** (min\\_max\\_norm), to force weights to have a magnitude between a range."
      ]
    },
    {
      "cell_type": "markdown",
      "metadata": {
        "id": "8fsTWvrGawQr"
      },
      "source": [
        "### 2.3.2 Weight Constraints Case Study"
      ]
    },
    {
      "cell_type": "markdown",
      "metadata": {
        "id": "NdpvDriibXwh"
      },
      "source": [
        "In this section, **we will demonstrate how to use weight constraints to reduce overfitting of an MLP on a simple binary classification problem**. This example provides a template for applying weight constraints to your own neural network for classification and regression problems."
      ]
    },
    {
      "cell_type": "code",
      "metadata": {
        "id": "fnB0LV-wbioW"
      },
      "source": [
        "# scatter plot of moons dataset\n",
        "from sklearn.datasets import make_moons\n",
        "import matplotlib.pyplot as plt\n",
        "import numpy as np\n",
        "\n",
        "# generate 2d classification dataset\n",
        "x, y = make_moons(n_samples=100, noise=0.2, random_state=1)\n",
        "\n",
        "# scatter plot for each class value\n",
        "for class_value in range(2):\n",
        "\t# select indices of points with the class label\n",
        "\trow_ix = np.where(y == class_value)\n",
        "\t# scatter plot for points with a different color\n",
        "\tplt.scatter(x[row_ix, 0], x[row_ix, 1])\n",
        "# show plot\n",
        "plt.show()"
      ],
      "execution_count": null,
      "outputs": []
    },
    {
      "cell_type": "markdown",
      "metadata": {
        "id": "3v9mDw97by79"
      },
      "source": [
        "#### 2.3.2.1 Overfit multilayer perceptron"
      ]
    },
    {
      "cell_type": "code",
      "metadata": {
        "id": "5AqIuw53b8z2"
      },
      "source": [
        "# mlp overfit on the moons dataset\n",
        "from sklearn.datasets import make_moons\n",
        "from tensorflow.keras.layers import Dense\n",
        "from tensorflow.keras.models import Sequential\n",
        "import matplotlib.pyplot as plt\n",
        "\n",
        "# generate 2d classification dataset\n",
        "x, y = make_moons(n_samples=100, noise=0.2, random_state=1)\n",
        "\n",
        "# split into train and test\n",
        "n_train = 30\n",
        "train_x, test_x = x[:n_train, :], x[n_train:, :]\n",
        "train_y, test_y = y[:n_train], y[n_train:]\n",
        "\n",
        "# define model\n",
        "model = Sequential()\n",
        "model.add(Dense(500, input_dim=2, activation='relu'))\n",
        "model.add(Dropout(0.1))\n",
        "model.add(Dense(1, activation='sigmoid'))\n",
        "model.compile(loss='binary_crossentropy', optimizer='adam', metrics=['accuracy'])\n",
        "\n",
        "# fit model\n",
        "history = model.fit(train_x, train_y,\n",
        "                    validation_data=(test_x, test_y),\n",
        "                    epochs=4000, verbose=0,callbacks=[early])\n",
        "\n",
        "# evaluate the model\n",
        "_, train_acc = model.evaluate(train_x, train_y, verbose=0)\n",
        "_, test_acc = model.evaluate(test_x, test_y, verbose=0)\n",
        "print('Train: %.3f, Test: %.3f' % (train_acc, test_acc))\n",
        "\n",
        "# plot loss learning curves\n",
        "plt.subplot(211)\n",
        "plt.title('Cross-Entropy Loss', pad=-40)\n",
        "plt.plot(history.history['loss'], label='train')\n",
        "plt.plot(history.history['val_loss'], label='test')\n",
        "plt.legend()\n",
        "\n",
        "# plot accuracy learning curves\n",
        "plt.subplot(212)\n",
        "plt.title('Accuracy', pad=-40)\n",
        "plt.plot(history.history['accuracy'], label='train')\n",
        "plt.plot(history.history['val_accuracy'], label='test')\n",
        "plt.legend()\n",
        "plt.tight_layout()\n",
        "plt.show()"
      ],
      "execution_count": null,
      "outputs": []
    },
    {
      "cell_type": "markdown",
      "metadata": {
        "id": "8TyVNsxXcj1o"
      },
      "source": [
        "Running the example reports the model performance on the train and test datasets. We can see that the model has better performance on the training dataset than the test dataset, one possible sign of overfitting."
      ]
    },
    {
      "cell_type": "markdown",
      "metadata": {
        "id": "RN7mQcAEdQdD"
      },
      "source": [
        "#### 2.3.2.2 Overfit MLP With Weight Constraint"
      ]
    },
    {
      "cell_type": "markdown",
      "metadata": {
        "id": "zClD-Fcrden4"
      },
      "source": [
        "We can update the example to use a weight constraint. There are a few different weight\n",
        "constraints to choose from. A good simple constraint for this model is to simply normalize the weights so that the norm is equal to 1.0. \n",
        "\n",
        "This constraint has the effect of forcing all incoming weights to be small. We can do this by using the unit norm in Keras. This constraint can be added to the \ffirst hidden layer as follows:\n",
        "\n",
        "```python\n",
        "model.add(Dense(500, input_dim=2, activation='relu', kernel_constraint=unit_norm()))\n",
        "```\n",
        "\n",
        "We can also achieve the same result by using the min max norm and setting the min and maximum to 1.0, for example:\n",
        "\n",
        "```python\n",
        "model.add(Dense(500, input_dim=2, activation='relu',kernel_constraint=min_max_norm(min_value=1.0, max_value=1.0)))\n",
        "```\n",
        "\n",
        "We cannot achieve the same result with the maximum norm constraint as it will allow norms at or below the speci\fed limit; for example:\n",
        "\n",
        "```python\n",
        "model.add(Dense(500, input_dim=2, activation='relu',kernel_constraint=max_norm(1.0)))\n",
        "```"
      ]
    },
    {
      "cell_type": "code",
      "metadata": {
        "id": "BCtjLrjPd2QS"
      },
      "source": [
        "# mlp overfit on the moons dataset with a unit norm constraint\n",
        "from sklearn.datasets import make_moons\n",
        "from tensorflow.keras.layers import Dense\n",
        "from tensorflow.keras.models import Sequential\n",
        "from tensorflow.keras.constraints import unit_norm\n",
        "import matplotlib.pyplot as plt\n",
        "\n",
        "# generate 2d classification dataset\n",
        "x, y = make_moons(n_samples=100, noise=0.2, random_state=1)\n",
        "\n",
        "# split into train and test\n",
        "n_train = 30\n",
        "train_x, test_x = x[:n_train, :], x[n_train:, :]\n",
        "train_y, test_y = y[:n_train], y[n_train:]\n",
        "\n",
        "# define model\n",
        "model = Sequential()\n",
        "model.add(Dense(500, input_dim=2, activation='relu', kernel_constraint=unit_norm()))\n",
        "model.add(Dropout(0.1))\n",
        "model.add(Dense(1, activation='sigmoid'))\n",
        "model.compile(loss='binary_crossentropy', optimizer='adam', metrics=['accuracy'])\n",
        "\n",
        "# fit model\n",
        "history = model.fit(train_x, train_y,\n",
        "                    validation_data=(test_x, test_y),\n",
        "                    epochs=4000, verbose=0, callbacks=[early])\n",
        "\n",
        "# evaluate the model\n",
        "_, train_acc = model.evaluate(train_x, train_y, verbose=0)\n",
        "_, test_acc = model.evaluate(test_x, test_y, verbose=0)\n",
        "print('Train: %.3f, Test: %.3f' % (train_acc, test_acc))\n",
        "\n",
        "# plot loss learning curves\n",
        "plt.subplot(211)\n",
        "plt.title('Cross-Entropy Loss', pad=-40)\n",
        "plt.plot(history.history['loss'], label='train')\n",
        "plt.plot(history.history['val_loss'], label='test')\n",
        "plt.legend()\n",
        "\n",
        "# plot accuracy learning curves\n",
        "plt.subplot(212)\n",
        "plt.title('Accuracy', pad=-40)\n",
        "plt.plot(history.history['accuracy'], label='train')\n",
        "plt.plot(history.history['val_accuracy'], label='test')\n",
        "plt.legend()\n",
        "plt.tight_layout()\n",
        "plt.show()"
      ],
      "execution_count": null,
      "outputs": []
    },
    {
      "cell_type": "markdown",
      "metadata": {
        "id": "8xCi14I_e2cc"
      },
      "source": [
        "Reviewing the line plot of train and test loss and accuracy, we can see that it no longer appears that the model has overfit the training dataset. Model accuracy on both the train and test sets continues to improve to a plateau."
      ]
    },
    {
      "cell_type": "markdown",
      "metadata": {
        "id": "iITgC-qTftXY"
      },
      "source": [
        "## 2.4 Decouple Layers with Dropout"
      ]
    },
    {
      "cell_type": "markdown",
      "metadata": {
        "id": "VUNhTPblghgN"
      },
      "source": [
        "Deep learning neural networks are likely to quickly overfit a training dataset with few examples. Ensembles of neural networks with different model configurations are known to reduce overfitting but require the additional computational expense of training and maintaining multiple models. \n",
        "\n",
        "> A single model can be used to simulate having a large number of different network architectures by randomly dropping out nodes during training. \n",
        "\n",
        "This is called **dropout** and **offers a very computationally cheap and remarkably effective regularization method to reduce overfitting and\n",
        "generalization error in deep neural networks of all kinds**. \n",
        "\n",
        "In this section, you will discover the use of dropout regularization for reducing overfitting and improving the generalization of deep neural networks. After reading this section, you will know:\n",
        "\n",
        "- Large weights in a neural network are a sign of a more complex network that has overfitted the training data.\n",
        "- Probabilistically dropping out nodes in the network is a simple and effective regularization method.\n",
        "- A large network with more training epochs and the use of a weight constraint is suggested when using dropout."
      ]
    },
    {
      "cell_type": "markdown",
      "metadata": {
        "id": "BC_bV5hYj8Rf"
      },
      "source": [
        "### 2.4.1 Dropout"
      ]
    },
    {
      "cell_type": "markdown",
      "metadata": {
        "id": "aOqqqktckatd"
      },
      "source": [
        "In this section you will discover that you can simulate the development of a large ensemble of neural network models in a single model called **dropout**, how you can use it to reduce overfitting, and tips for using this technique on your own projects."
      ]
    },
    {
      "cell_type": "markdown",
      "metadata": {
        "id": "V33XI1ZVkkYc"
      },
      "source": [
        "#### 2.4.1.1 Problem With Overfitting"
      ]
    },
    {
      "cell_type": "markdown",
      "metadata": {
        "id": "Yi1qzSrOkp5u"
      },
      "source": [
        "Large neural nets trained on relatively small datasets can overfit the training data. This has the effect of the model learning the statistical noise in the training data, which results in poor performance when the model is evaluated on new data, e.g., a test dataset. Generalization error\n",
        "increases due to overfitting. One approach to reducing overfitting is to fit all possible different neural networks on the same dataset and to average the predictions from each model. This is not feasible in practice, and can be approximated using a small collection of different models,\n",
        "called an ensemble.\n",
        "\n",
        "> A problem even with the ensemble approximation is that it requires multiple models to be fit and stored, which can be a challenge if the models are large, requiring days or weeks to train and tune."
      ]
    },
    {
      "cell_type": "markdown",
      "metadata": {
        "id": "CFytUU-2lQsk"
      },
      "source": [
        "#### 2.4.1.2 Randomly Drop Nodes"
      ]
    },
    {
      "cell_type": "markdown",
      "metadata": {
        "id": "AQb-AEpwldLm"
      },
      "source": [
        "**Dropout is a regularization method** that approximates training a large number of neural networks with different architectures in parallel. \n",
        "\n",
        "> During training, some number of node outputs are randomly ignored or dropped out. \n",
        "\n",
        "This has the effect of making the layer look-like and be\n",
        "treated-like a layer with a different number of nodes and connectivity to the prior layer. In effect, each update to a layer during training is performed with a different view of the configured layer.\n",
        "\n",
        "> **Dropout has the effect of making the training process noisy**, forcing nodes within a layer to probabilistically take on more or less responsible for the inputs.\n",
        "\n",
        "This conceptualization suggests that perhaps dropout breaks-up situations where network layers co-adapt to correct mistakes from prior layers, in turn making the model more robust.\n",
        "\n",
        "Because the outputs of a layer under dropout are randomly subsampled, it has the effect of reducing the capacity or thinning the network during training. As such, a wider network, e.g., more nodes, may be required when using dropout."
      ]
    },
    {
      "cell_type": "markdown",
      "metadata": {
        "id": "VyDPIx24mYlP"
      },
      "source": [
        "#### 2.4.1.3 How to Dropout"
      ]
    },
    {
      "cell_type": "markdown",
      "metadata": {
        "id": "1x0Mzg-Hm20G"
      },
      "source": [
        "Dropout is implemented per-layer in a neural network. It can be used with most types of layers, such as dense fully connected layers, convolutional layers, and recurrent layers such as the long\n",
        "short-term memory network layer. \n",
        "\n",
        "> Dropout may be implemented on any or all hidden layers in the network as well as the visible or input layer. **It is not used on the output layer**.\n",
        "\n",
        "\n",
        "**A new hyperparameter** is introduced that specifies the probability at which outputs of the layer are dropped out, or inversely, the probability at which outputs of the layer are retained.\n",
        "\n",
        "The interpretation is an implementation detail that can differ from paper to code library. \n",
        "\n",
        "> A common value is a probability of 0.5 for retaining the output of each node in a hidden layer and a value close to 1.0, such as 0.8, for retaining inputs from the visible layer.\n",
        "\n",
        "**Dropout is not used after training when making a prediction with the \ffit network**. The weights of the network will be larger than normal because of dropout. Therefore, before \ffinnalizing\n",
        "the network, the weights are \ffirrst scaled by the chosen dropout rate. The network can then be used as per normal to make predictions.\n",
        "\n",
        "The rescaling of the weights can be performed at training time instead, after each weight update at the end of the minibatch. \n",
        "\n",
        "> This is sometimes called **inverse dropout** and does not\n",
        "require any modification of weights during training. Both the Keras and PyTorch deep learning libraries implement dropout in this way.\n",
        "\n",
        "**Dropout works well in practice**, perhaps replacing the need for weight regularization (e.g. weight decay) and activation regularization (e.g. representation sparsity)."
      ]
    },
    {
      "cell_type": "markdown",
      "metadata": {
        "id": "zBctII-znHgn"
      },
      "source": [
        "### 2.4.2 Dropout Case Study"
      ]
    },
    {
      "cell_type": "code",
      "metadata": {
        "id": "yG-62OzWqrs4"
      },
      "source": [
        "# scatter plot of circles dataset\n",
        "from sklearn.datasets import make_circles\n",
        "import matplotlib.pyplot as plt\n",
        "import numpy as np\n",
        "\n",
        "# generate 2d classification dataset\n",
        "x, y = make_circles(n_samples=100, noise=0.1, random_state=1)\n",
        "\n",
        "# scatter plot for each class value\n",
        "for class_value in range(2):\n",
        "\t# select indices of points with the class label\n",
        "\trow_ix = np.where(y == class_value)\n",
        " \n",
        "\t# scatter plot for points with a different color\n",
        "\tplt.scatter(x[row_ix, 0], x[row_ix, 1])\n",
        "# show plot\n",
        "plt.show()"
      ],
      "execution_count": null,
      "outputs": []
    },
    {
      "cell_type": "markdown",
      "metadata": {
        "id": "nNCbJXx5q-ng"
      },
      "source": [
        "#### 2.4.2.1 Overfit multilayer perceptron"
      ]
    },
    {
      "cell_type": "code",
      "metadata": {
        "id": "Hl0lA9xgrHcW"
      },
      "source": [
        "# mlp overfit on the two circles dataset\n",
        "from sklearn.datasets import make_circles\n",
        "from tensorflow.keras.layers import Dense\n",
        "from tensorflow.keras.models import Sequential\n",
        "import matplotlib.pyplot as plt\n",
        "\n",
        "# generate 2d classification dataset\n",
        "x, y = make_circles(n_samples=100, noise=0.1, random_state=1)\n",
        "\n",
        "# split into train and test\n",
        "n_train = 30\n",
        "train_x, test_x = x[:n_train, :], x[n_train:, :]\n",
        "train_y, test_y = y[:n_train], y[n_train:]\n",
        "\n",
        "# define model\n",
        "model = Sequential()\n",
        "model.add(Dense(500, input_dim=2, activation='relu'))\n",
        "model.add(Dropout(0.1))\n",
        "model.add(Dense(1, activation='sigmoid'))\n",
        "model.compile(loss='binary_crossentropy', optimizer='adam', metrics=['accuracy'])\n",
        "\n",
        "# fit model\n",
        "history = model.fit(train_x, train_y,\n",
        "                    validation_data=(test_x, test_y),\n",
        "                    epochs=4000, verbose=0, callbacks=[early])\n",
        "\n",
        "# evaluate the model\n",
        "_, train_acc = model.evaluate(train_x, train_y, verbose=0)\n",
        "_, test_acc = model.evaluate(test_x, test_y, verbose=0)\n",
        "print('Train: %.3f, Test: %.3f' % (train_acc, test_acc))\n",
        "\n",
        "# plot loss learning curves\n",
        "plt.subplot(211)\n",
        "plt.title('Cross-Entropy Loss', pad=-40)\n",
        "plt.plot(history.history['loss'], label='train')\n",
        "plt.plot(history.history['val_loss'], label='test')\n",
        "plt.legend()\n",
        "\n",
        "# plot accuracy learning curves\n",
        "plt.subplot(212)\n",
        "plt.title('Accuracy', pad=-40)\n",
        "plt.plot(history.history['accuracy'], label='train')\n",
        "plt.plot(history.history['val_accuracy'], label='test')\n",
        "plt.legend()\n",
        "plt.tight_layout()\n",
        "plt.show()"
      ],
      "execution_count": null,
      "outputs": []
    },
    {
      "cell_type": "markdown",
      "metadata": {
        "id": "Nbdgc9vqrlp-"
      },
      "source": [
        "#### 2.4.2.2 MLP with dropout regularization"
      ]
    },
    {
      "cell_type": "markdown",
      "metadata": {
        "id": "hWQlHlmxsR4d"
      },
      "source": [
        "We can update the example to use dropout regularization. We can do this by simply inserting a new Dropout layer between the hidden layer and the output layer. In this case, we will specify a dropout rate (probability of setting outputs from the hidden layer to zero) to 40% or 0.4.\n",
        "\n",
        "```python\n",
        "# define model\n",
        "model = Sequential()\n",
        "model.add(Dense(500, input_dim=2, activation='relu'))\n",
        "model.add(Dropout(0.4))\n",
        "model.add(Dense(1, activation='sigmoid'))\n",
        "model.compile(loss='binary_crossentropy', optimizer='adam', metrics=['accuracy'])\n",
        "```"
      ]
    },
    {
      "cell_type": "code",
      "metadata": {
        "id": "ln4kDU1Csb9b"
      },
      "source": [
        "# mlp with dropout on the two circles dataset\n",
        "from sklearn.datasets import make_circles\n",
        "from tensorflow.keras.models import Sequential\n",
        "from tensorflow.keras.layers import Dense\n",
        "from tensorflow.keras.layers import Dropout\n",
        "import matplotlib.pyplot as plt\n",
        "\n",
        "# generate 2d classification dataset\n",
        "x, y = make_circles(n_samples=100, noise=0.1, random_state=1)\n",
        "\n",
        "# split into train and test\n",
        "n_train = 30\n",
        "train_x, test_x = x[:n_train, :], x[n_train:, :]\n",
        "train_y, test_y = y[:n_train], y[n_train:]\n",
        "\n",
        "# define model\n",
        "model = Sequential()\n",
        "model.add(Dense(500, input_dim=2, activation='relu'))\n",
        "model.add(Dropout(0.4))\n",
        "model.add(Dense(1, activation='sigmoid'))\n",
        "model.compile(loss='binary_crossentropy', optimizer='adam', metrics=['accuracy'])\n",
        "\n",
        "# fit model\n",
        "history = model.fit(train_x, train_y,\n",
        "                    validation_data=(test_x, test_y),\n",
        "                    epochs=4000, verbose=0, callbacks=[early])\n",
        "\n",
        "# evaluate the model\n",
        "_, train_acc = model.evaluate(train_x, train_y, verbose=0)\n",
        "_, test_acc = model.evaluate(test_x, test_y, verbose=0)\n",
        "print('Train: %.3f, Test: %.3f' % (train_acc, test_acc))\n",
        "\n",
        "# plot loss learning curves\n",
        "plt.subplot(211)\n",
        "plt.title('Cross-Entropy Loss', pad=-40)\n",
        "plt.plot(history.history['loss'], label='train')\n",
        "plt.plot(history.history['val_loss'], label='test')\n",
        "plt.legend()\n",
        "\n",
        "# plot accuracy learning curves\n",
        "plt.subplot(212)\n",
        "plt.title('Accuracy', pad=-40)\n",
        "plt.plot(history.history['accuracy'], label='train')\n",
        "plt.plot(history.history['val_accuracy'], label='test')\n",
        "plt.legend()\n",
        "plt.tight_layout()\n",
        "plt.show()"
      ],
      "execution_count": null,
      "outputs": []
    },
    {
      "cell_type": "markdown",
      "metadata": {
        "id": "MxvzLw2EtAUr"
      },
      "source": [
        "In this specific case, we can see that dropout resulted in a slight drop in accuracy on the training dataset, down from 100% to 96%, and a lift in accuracy on the test set, up from 75% to 80%.\n",
        "\n",
        "Reviewing the line plot of train and test accuracy during training, we can see that it no longer appears that the model has overfit the training dataset. Model accuracy on both the train and test sets continues to increase to a plateau, albeit with a lot of noise given the use of dropout during training."
      ]
    },
    {
      "cell_type": "markdown",
      "metadata": {
        "id": "x32mjaCoupUk"
      },
      "source": [
        "## 2.5 Promote Robustness with Noise"
      ]
    },
    {
      "cell_type": "markdown",
      "metadata": {
        "id": "L9looEgERr5W"
      },
      "source": [
        "Training a neural network with a small dataset can cause the network to memorize all training examples, in turn leading to poor performance on a holdout dataset. Small datasets may also represent a harder mapping problem for neural networks to learn, given the patchy or sparse\n",
        "a sampling of points in the high-dimensional input space. \n",
        "\n",
        "> One approach to making the input space smoother and easier to learn is to add noise to inputs during training. \n",
        "\n",
        "In this section, **you will discover that adding noise to a neural network during training can improve the robustness of the network, resulting in better generalization and faster learning**. \n",
        "\n",
        "After reading this section, you will know:\n",
        "\n",
        "- Small datasets can make learning challenging for neural nets, and the examples can be memorized.\n",
        "- Adding noise during training can make the training process more robust and reduce generalization error.\n",
        "- Noise is traditionally added to the inputs but can also be added to weights, gradients, and even activation functions."
      ]
    },
    {
      "cell_type": "markdown",
      "metadata": {
        "id": "g1eSzzBFStMO"
      },
      "source": [
        "### 2.5.1 Noise Regularization"
      ]
    },
    {
      "cell_type": "markdown",
      "metadata": {
        "id": "gqXzpIJdS1fw"
      },
      "source": [
        "In this section, you will discover the brittleness of large network weights and how the addition of statistical noise can provide a regularizing effect, as well as tips to help when adding noise to your own neural network models."
      ]
    },
    {
      "cell_type": "markdown",
      "metadata": {
        "id": "XsDUsng-TGY7"
      },
      "source": [
        "#### 2.5.1.1 Add Random Noise During Training"
      ]
    },
    {
      "cell_type": "markdown",
      "metadata": {
        "id": "WMW1nAOcTvqj"
      },
      "source": [
        "One approach to improving generalization error and to improving the structure of the mapping problem is to add random noise.\n",
        "\n",
        "At first, this sounds like a recipe for making learning more challenging. It is a counter-intuitive suggestion to improving performance because one would expect noise to degrade performance of the model during training.\n",
        "\n",
        "> Heuristically, we might expect that the noise will 'smear out' each data point and make it dicult for the network to fit individual data points precisely, and hence will reduce overfitting. In practice, it has been demonstrated that training with noise can indeed lead to improvements in network generalization.\n",
        "\n",
        "The addition of noise during the training of a neural network model has a regularization effect and, in turn, improves the robustness of the model. It has been shown to have a similar impact on the loss function as the addition of a penalty term, as in the case of weight regularization\n",
        "methods.\n",
        "\n",
        "In effect, adding noise expands the size of the training dataset. Each time a training sample is exposed to the model, random noise is added to the input variables making them different every time it is exposed to the model. In this way, adding noise to input samples is a simple\n",
        "form of **data augmentation**.\n",
        "\n",
        "> Injecting noise in the input to a neural network can also be seen as a form of data\n",
        "augmentation.\n",
        "\n",
        "**Adding noise means that the network is less able to memorize training samples because they are changing all of the time**, resulting in smaller network weights and a more robust network that has lower generalization error. The noise means that it is as though new samples are being drawn from the domain in the vicinity of known samples, smoothing the structure of the input space. This smoothing may mean that the mapping function is easier for the network to learn, resulting in better and faster learning."
      ]
    },
    {
      "cell_type": "markdown",
      "metadata": {
        "id": "TBSGxkW0Utog"
      },
      "source": [
        "#### 2.5.1.2 How and Where to Add Noise"
      ]
    },
    {
      "cell_type": "markdown",
      "metadata": {
        "id": "zE5KERASZexV"
      },
      "source": [
        "The most common type of **noise used during training** is the addition of **Gaussian noise** to input variables. Gaussian noise, or white noise, has a **mean of zero and a standard deviation of one** and can be generated as needed using a pseudorandom number generator. The addition of Gaussian noise to the inputs to a neural network was traditionally referred to as **jitter or random jitter** after the use of the term in signal processing to refer to the uncorrelated random noise\n",
        "in electrical circuits. \n",
        "\n",
        "> The amount of noise added (e.g. the spread or standard deviation) is a configurable hyperparameter. \n",
        "\n",
        "**Too little noise has no effect, whereas too much noise makes the\n",
        "mapping function too challenging to learn.**\n",
        "\n",
        "The **standard deviation of the random noise** controls the amount of spread and can be adjusted based on the scale of each input variable. It can be easier to configure if the scale of the input variables has first been normalized. <font color='red'>Noise is only added during training</font>. No noise is added during the evaluation of the model or when the model is used to make predictions on new data."
      ]
    },
    {
      "cell_type": "markdown",
      "metadata": {
        "id": "lHF3jwbucJih"
      },
      "source": [
        "Although additional noise to the inputs is the most common and widely studied approach, random noise can be added to other network parts during training. Some examples include:\n",
        "\n",
        "- **Add noise to activations**, i.e., the outputs of each layer.\n",
        "- **Add noise to weights**, i.e., an alternative to the inputs.\n",
        "- **Add noise to the gradients**, i.e., the direction to update weights.\n",
        "- **Add noise to the outputs**, i.e., the labels or target variables.\n",
        "\n",
        "The **addition of noise** to the **layer activations** allows noise to be used at any point in the network. This can be **beneficial for very deep networks**. Noise can be added to the layer outputs themselves, but this is more likely achieved via a noisy activation function. \n",
        "\n",
        "The **addition of noise** to **weights** allows the approach to be used throughout the network consistently instead of adding noise to inputs and layer activations. This is **particularly useful in recurrent neural networks**.\n",
        "\n",
        "The **addition of noise** to **gradients** focuses more on **improving the optimization process's robustness** rather than the structure of the input domain. The amount of noise can start high at the beginning of training and decrease over time, much like a decaying learning rate.\n",
        "This approach has proven to be an effective method for very deep networks and a variety of different network types.\n",
        "\n",
        "> Adding noise to the activations, weights, or gradients all provides a more generic approach to adding noise invariant to the types of input variables provided to the model. \n",
        "\n",
        "If the problem domain is believed or expected to have mislabeled examples, then the addition of noise\n",
        "to the class label can improve the model's robustness to this type of error. Although, it can be easy to derail the learning process. Adding noise to a continuous target variable in the case of regression or time series forecasting is much like the addition of noise to the input variables and\n",
        "maybe a better use case.\n",
        "\n",
        "> Noise can be added to training regardless of the type of problem that is being addressed. It is appropriate to try adding noise to both classification and regression type problems. The type of noise can be specialized to the types of data used as input to the model, for example,\n",
        "**two-dimensional noise** in the case of **images** and **signal noise** in the case of **audio data**.\n",
        "\n",
        "<font color='red'>Noise is only added during the training of your model</font>. Be sure that any source of noise is not added during the evaluation of your model, or when your model is used to make predictions on new data."
      ]
    },
    {
      "cell_type": "markdown",
      "metadata": {
        "id": "8Q6tp_fOrVC0"
      },
      "source": [
        "Keras supports the addition of noise to models via the **GaussianNoise layer**. This is a layer that will add noise to inputs of a given shape. The noise has a mean of zero and requires that a standard deviation of the noise be specifed as a hyperparameter. For example:\n",
        "\n",
        "```python\n",
        "# import noise layer\n",
        "from keras.layers import GaussianNoise\n",
        "# define noise layer\n",
        "layer = GaussianNoise(0.1)\n",
        "```\n",
        "\n",
        "The **GaussianNoise layer** can be used in a few different ways with a neural network model. Firstly, it can be used as an input layer to add noise to input variables directly. This is the traditional use of noise as a regularization method in neural networks. Below is an example of\n",
        "defining a **GaussianNoise layer** as an input layer for a model that takes 2 input variables.\n",
        "\n",
        "```python\n",
        "...\n",
        "model.add(GaussianNoise(0.01, input_shape=(2,)))\n",
        "...\n",
        "```\n",
        "\n",
        "**Noise** can also be added **between hidden layers** in the model. Given the flexibility of Keras, the noise can be added before or after the use of the activation function. It may make more sense\n",
        "to add it before the activation; nevertheless, both options are possible. Below is an example of a **GaussianNoise layer** that adds noise to the linear output of a Dense layer before a rectified\n",
        "linear activation function, perhaps a more appropriate use of noise between hidden layers.\n",
        "\n",
        "```python\n",
        "...\n",
        "model.add(Dense(32))\n",
        "model.add(GaussianNoise(0.1))\n",
        "model.add(Activation('relu'))\n",
        "model.add(Dense(32))\n",
        "...\n",
        "```\n",
        "\n",
        "Noise can also be added after the activation function, much like using a noisy activation function. One downside of this usage is that the resulting values may be out-of-range from what the activation function may normally provide. For example, a value with added noise may be less than zero, whereas the relu activation function will only ever output values 0 or larger.\n",
        "\n",
        "```python\n",
        "...\n",
        "model.add(Dense(32, activation='reu'))\n",
        "model.add(GaussianNoise(0.1))\n",
        "model.add(Dense(32))\n",
        "...\n",
        "```"
      ]
    },
    {
      "cell_type": "markdown",
      "metadata": {
        "id": "7tBq5rIRngDf"
      },
      "source": [
        "### 2.5.2 Noise Regularization Case Study"
      ]
    },
    {
      "cell_type": "code",
      "metadata": {
        "id": "_-cXewmVq3Kh"
      },
      "source": [
        "# scatter plot of circles dataset\n",
        "from sklearn.datasets import make_circles\n",
        "import matplotlib.pyplot as plt\n",
        "import numpy as np\n",
        "\n",
        "# generate 2d classification dataset\n",
        "x, y = make_circles(n_samples=100, noise=0.1, random_state=1)\n",
        "\n",
        "# scatter plot for each class value\n",
        "for class_value in range(2):\n",
        "\t# select indices of points with the class label\n",
        "\trow_ix = np.where(y == class_value)\n",
        "\t# scatter plot for points with a different color\n",
        "\tplt.scatter(x[row_ix, 0], x[row_ix, 1])\n",
        "# show plot\n",
        "plt.show()"
      ],
      "execution_count": null,
      "outputs": []
    },
    {
      "cell_type": "markdown",
      "metadata": {
        "id": "WgAC6Y3OrE4s"
      },
      "source": [
        "#### 2.5.2.1 Overfit multilayer perceptron"
      ]
    },
    {
      "cell_type": "code",
      "metadata": {
        "id": "OdqpH6-FsulY"
      },
      "source": [
        "# mlp overfit on the two circles dataset\n",
        "from sklearn.datasets import make_circles\n",
        "from tensorflow.keras.layers import Dense\n",
        "from tensorflow.keras.models import Sequential\n",
        "import matplotlib.pyplot as plt\n",
        "\n",
        "# generate 2d classification dataset\n",
        "x, y = make_circles(n_samples=100, noise=0.1, random_state=1)\n",
        "\n",
        "# split into train and test\n",
        "n_train = 30\n",
        "train_x, test_x = x[: n_train, :], x[n_train:, :]\n",
        "train_y, test_y = y[:n_train], y[n_train:]\n",
        "\n",
        "# define model\n",
        "model = Sequential()\n",
        "model.add(Dense(500, input_dim=2, activation='relu'))\n",
        "model.add(Dropout(0.1))\n",
        "model.add(Dense(1, activation='sigmoid'))\n",
        "model.compile(loss='binary_crossentropy', optimizer='adam', metrics=['accuracy'])\n",
        "\n",
        "# fit model\n",
        "history = model.fit(train_x, train_y,\n",
        "                    validation_data=(test_x, test_y),\n",
        "                    epochs=4000, verbose=0, callbacks=[early])\n",
        "\n",
        "# evaluate the model\n",
        "_, train_acc = model.evaluate(train_x, train_y, verbose=0)\n",
        "_, test_acc = model.evaluate(test_x, test_y, verbose=0)\n",
        "print('Train: %.3f, Test: %.3f' % (train_acc, test_acc))\n",
        "\n",
        "# plot loss learning curves\n",
        "plt.subplot(211)\n",
        "plt.title('Cross-Entropy Loss', pad=-40)\n",
        "plt.plot(history.history['loss'], label='train')\n",
        "plt.plot(history.history['val_loss'], label='test')\n",
        "plt.legend()\n",
        "\n",
        "# plot accuracy learning curves\n",
        "plt.subplot(212)\n",
        "plt.title('Accuracy', pad=-40)\n",
        "plt.plot(history.history['accuracy'], label='train')\n",
        "plt.plot(history.history['val_accuracy'], label='test')\n",
        "plt.legend()\n",
        "plt.tight_layout()\n",
        "plt.show()"
      ],
      "execution_count": null,
      "outputs": []
    },
    {
      "cell_type": "markdown",
      "metadata": {
        "id": "BMPoBUAOtPap"
      },
      "source": [
        "#### 2.5.2.2 MLP with input layer noise"
      ]
    },
    {
      "cell_type": "markdown",
      "metadata": {
        "id": "FzUITD3hvMJ2"
      },
      "source": [
        "The dataset is defined by points that have a controlled amount of statistical noise. Nevertheless, because the dataset is small, we may wish to add further noise to the input values. This will have the effect of creating more samples or resampling the domain, making the structure of the input space arti\fcially smoother. This may make the problem easier to learn and improve\n",
        "generalization performance. We can add a **GaussianNoise layer** as the **input layer**. The amount of noise must be small. Given that the input values are within the range $[0, 1]$, we will add Gaussian noise with a mean of 0.0 and a standard deviation of 0.1, chosen arbitrarily."
      ]
    },
    {
      "cell_type": "code",
      "metadata": {
        "id": "OiZIvET7t8Q2"
      },
      "source": [
        "# mlp overfit on the two circles dataset with input noise\n",
        "from sklearn.datasets import make_circles\n",
        "from tensorflow.keras.models import Sequential\n",
        "from tensorflow.keras.layers import Dense\n",
        "from tensorflow.keras.layers import GaussianNoise\n",
        "import matplotlib.pyplot as plt\n",
        "\n",
        "# generate 2d classification dataset\n",
        "x, y = make_circles(n_samples=100, noise=0.1, random_state=1)\n",
        "\n",
        "# split into train and test\n",
        "n_train = 30\n",
        "train_x, test_x = x[:n_train, :], x[n_train:, :]\n",
        "train_y, test_y = y[:n_train], y[n_train:]\n",
        "\n",
        "# define model\n",
        "model = Sequential()\n",
        "model.add(GaussianNoise(0.1, input_shape=(2,)))\n",
        "model.add(Dense(500, activation='relu'))\n",
        "model.add(Dropout(0.1))\n",
        "model.add(Dense(1, activation='sigmoid'))\n",
        "model.compile(loss='binary_crossentropy', optimizer='adam', metrics=['accuracy'])\n",
        "\n",
        "# fit model\n",
        "history = model.fit(train_x, train_y,\n",
        "                    validation_data=(test_x, test_y),\n",
        "                    epochs=4000, verbose=0, callbacks=[early])\n",
        "\n",
        "# evaluate the model\n",
        "_, train_acc = model.evaluate(train_x, train_y, verbose=0)\n",
        "_, test_acc = model.evaluate(test_x, test_y, verbose=0)\n",
        "print('Train: %.3f, Test: %.3f' % (train_acc, test_acc))\n",
        "\n",
        "# plot loss learning curves\n",
        "plt.subplot(211)\n",
        "plt.title('Cross-Entropy Loss', pad=-40)\n",
        "plt.plot(history.history['loss'], label='train')\n",
        "plt.plot(history.history['val_loss'], label='test')\n",
        "plt.legend()\n",
        "\n",
        "# plot accuracy learning curves\n",
        "plt.subplot(212)\n",
        "plt.title('Accuracy', pad=-40)\n",
        "plt.plot(history.history['accuracy'], label='train')\n",
        "plt.plot(history.history['val_accuracy'], label='test')\n",
        "plt.legend()\n",
        "plt.tight_layout()\n",
        "plt.show()"
      ],
      "execution_count": null,
      "outputs": []
    },
    {
      "cell_type": "markdown",
      "metadata": {
        "id": "0KOulgIdu7Al"
      },
      "source": [
        "We clearly see the impact of the added noise on the evaluation of the model during training as graphed on the line plot. The noise causes the accuracy of the model to jump around during training, possibly due to the noise introducing points that conflict with true points from the training dataset. Perhaps a lower input noise standard deviation would be more appropriate.\n",
        "\n",
        "The model still shows a pattern of being overfit, with a rise and then fall in test accuracy over training epochs."
      ]
    },
    {
      "cell_type": "markdown",
      "metadata": {
        "id": "mrrxGHecvzN7"
      },
      "source": [
        "#### 2.5.3.3 MLP with hidden layer noise\n"
      ]
    },
    {
      "cell_type": "code",
      "metadata": {
        "id": "5FxeAHhzwPuC"
      },
      "source": [
        "# mlp overfit on the two circles dataset with hidden layer noise\n",
        "from sklearn.datasets import make_circles\n",
        "from tensorflow.keras.models import Sequential\n",
        "from tensorflow.keras.layers import Dense\n",
        "from tensorflow.keras.layers import Activation\n",
        "from tensorflow.keras.layers import GaussianNoise\n",
        "import matplotlib.pyplot as plt\n",
        "\n",
        "# generate 2d classification dataset\n",
        "x, y = make_circles(n_samples=100, noise=0.1, random_state=1)\n",
        "\n",
        "# split into train and test\n",
        "n_train = 30\n",
        "train_x, test_x = x[:n_train, :], x[n_train:, :]\n",
        "train_y, test_y = y[:n_train], y[n_train:]\n",
        "\n",
        "# define model\n",
        "model = Sequential()\n",
        "model.add(Dense(500, input_dim=2))\n",
        "model.add(GaussianNoise(0.1))\n",
        "model.add(Dropout(0.1))\n",
        "model.add(Activation('relu'))\n",
        "model.add(Dense(1, activation='sigmoid'))\n",
        "model.compile(loss='binary_crossentropy', optimizer='adam', metrics=['accuracy'])\n",
        "\n",
        "# fit model\n",
        "history = model.fit(train_x, train_y,\n",
        "                    validation_data=(test_x, test_y),\n",
        "                    epochs=4000, verbose=0, callbacks=[early])\n",
        "\n",
        "# evaluate the model\n",
        "_, train_acc = model.evaluate(train_x, train_y, verbose=0)\n",
        "_, test_acc = model.evaluate(test_x, test_y, verbose=0)\n",
        "print('Train: %.3f, Test: %.3f' % (train_acc, test_acc))\n",
        "\n",
        "# plot loss learning curves\n",
        "plt.subplot(211)\n",
        "plt.title('Cross-Entropy Loss', pad=-40)\n",
        "plt.plot(history.history['loss'], label='train')\n",
        "plt.plot(history.history['val_loss'], label='test')\n",
        "plt.legend()\n",
        "\n",
        "# plot accuracy learning curves\n",
        "plt.subplot(212)\n",
        "plt.title('Accuracy', pad=-40)\n",
        "plt.plot(history.history['accuracy'], label='train')\n",
        "plt.plot(history.history['val_accuracy'], label='test')\n",
        "plt.legend()\n",
        "plt.tight_layout()\n",
        "plt.show()"
      ],
      "execution_count": null,
      "outputs": []
    },
    {
      "cell_type": "markdown",
      "metadata": {
        "id": "SmP9BuA1wyZa"
      },
      "source": [
        "We can also see from the line plot of accuracy over training epochs that the model no longer appears to show the properties of being overfit with regard to classification accuracy. The learning curves for loss do still show a pattern of being overfit.\n",
        "\n",
        "\n",
        "> We can also experiment and add the noise after the outputs of the \frst hidden layer pass through the activation function."
      ]
    },
    {
      "cell_type": "code",
      "metadata": {
        "id": "7cKZT8M9x79L"
      },
      "source": [
        "# mlp overfit on the two circles dataset with hidden layer noise\n",
        "from sklearn.datasets import make_circles\n",
        "from tensorflow.keras.models import Sequential\n",
        "from tensorflow.keras.layers import Dense\n",
        "from tensorflow.keras.layers import Activation\n",
        "from tensorflow.keras.layers import GaussianNoise\n",
        "import matplotlib.pyplot as plt\n",
        "\n",
        "# generate 2d classification dataset\n",
        "x, y = make_circles(n_samples=100, noise=0.1, random_state=1)\n",
        "\n",
        "# split into train and test\n",
        "n_train = 30\n",
        "train_x, test_x = x[:n_train, :], x[n_train:, :]\n",
        "train_y, test_y = y[:n_train], y[n_train:]\n",
        "\n",
        "# define model\n",
        "model = Sequential()\n",
        "model.add(Dense(500, input_dim=2,activation='relu'))\n",
        "model.add(GaussianNoise(0.1))\n",
        "model.add(Dropout(0.1))\n",
        "model.add(Dense(1, activation='sigmoid'))\n",
        "model.compile(loss='binary_crossentropy', optimizer='adam', metrics=['accuracy'])\n",
        "\n",
        "# fit model\n",
        "history = model.fit(train_x, train_y,\n",
        "                    validation_data=(test_x, test_y),\n",
        "                    epochs=4000, verbose=0, callbacks=[early])\n",
        "\n",
        "# evaluate the model\n",
        "_, train_acc = model.evaluate(train_x, train_y, verbose=0)\n",
        "_, test_acc = model.evaluate(test_x, test_y, verbose=0)\n",
        "print('Train: %.3f, Test: %.3f' % (train_acc, test_acc))\n",
        "\n",
        "# plot loss learning curves\n",
        "plt.subplot(211)\n",
        "plt.title('Cross-Entropy Loss', pad=-40)\n",
        "plt.plot(history.history['loss'], label='train')\n",
        "plt.plot(history.history['val_loss'], label='test')\n",
        "plt.legend()\n",
        "\n",
        "# plot accuracy learning curves\n",
        "plt.subplot(212)\n",
        "plt.title('Accuracy', pad=-40)\n",
        "plt.plot(history.history['accuracy'], label='train')\n",
        "plt.plot(history.history['val_accuracy'], label='test')\n",
        "plt.legend()\n",
        "plt.tight_layout()\n",
        "plt.show()"
      ],
      "execution_count": null,
      "outputs": []
    },
    {
      "cell_type": "markdown",
      "metadata": {
        "id": "sdIIqLI0yceb"
      },
      "source": [
        "Surprisingly, we see little difference in the performance of the model, perhaps a small lift in performance.\n",
        "\n",
        "Again, we can see from the line plot of accuracy over training epochs that the model no longer shows sign of overfitting."
      ]
    },
    {
      "cell_type": "markdown",
      "metadata": {
        "id": "8LdLnu7Uzb0X"
      },
      "source": [
        "## 2.6 Halt Training at the Right Time with Early Stopping"
      ]
    },
    {
      "cell_type": "markdown",
      "metadata": {
        "id": "7paFJWE60yXY"
      },
      "source": [
        "A major challenge in training neural networks is how long to train them. Too little training will mean that the model will underfit the train and the test sets. Too much training will mean that the model will overfit the training dataset and have poor performance on the test set. A compromise is to train on the training dataset but to stop training at the point when performance on a validation dataset starts to degrade. \n",
        "\n",
        "This simple, effective, and widely used approach to training neural networks is called **early stopping**. This section will discover\n",
        "that stopping the training of a neural network early before it has overfited the training dataset can reduce overfitting and improve the generalization of deep neural networks. After reading this section, you will know:\n",
        "\n",
        "- The challenge of training a neural network long enough to learn the mapping, but not so long that it overfits the training data.\n",
        "- Model performance on a holdout validation dataset can be monitored during training and training stopped when generalization error starts to increase.\n",
        "- The use of early stopping requires the selection of a performance measure to monitor, a trigger to stop training, and a selection of the model weights to use."
      ]
    },
    {
      "cell_type": "markdown",
      "metadata": {
        "id": "TwD4awF938vv"
      },
      "source": [
        "### 2.6.1 Early Stopping"
      ]
    },
    {
      "cell_type": "markdown",
      "metadata": {
        "id": "2cD7mIh64Nl4"
      },
      "source": [
        "In this section discover the problem of training a model for too long and the regularizing effect that halting the training process at the right time can have, as well as tips for using early\n",
        "stopping in your own projects."
      ]
    },
    {
      "cell_type": "markdown",
      "metadata": {
        "id": "KYRiSpVn4VHv"
      },
      "source": [
        "#### 2.6.1.1 The problem of training just enough"
      ]
    },
    {
      "cell_type": "markdown",
      "metadata": {
        "id": "9lR03gU_4bBC"
      },
      "source": [
        "Training neural networks is challenging. \n",
        "> When training a large network, there will be a point during training when the model will stop generalizing and start learning the training dataset's statistical noise. \n",
        "\n",
        "This overtting of the training dataset will increase generalization error, making the model less useful in making predictions on new data. \n",
        "\n",
        "**The challenge is to train the network long enough to learn the mapping** from inputs to outputs, **but not training the model so long that it overfits** the training data.\n",
        "\n",
        "One approach to solving this problem is to treat the **number of training epochs as a hyperparameter**, train the model multiple times with different values, and then select the number of epochs that result in the train's best performance or a holdout test dataset. The downside of this approach is that it requires multiple models to be trained and discarded. \n",
        "This can be computationally ineffcient and time-consuming, especially for large models trained on large datasets over days or weeks."
      ]
    },
    {
      "cell_type": "markdown",
      "metadata": {
        "id": "wyXQA2SB5YQC"
      },
      "source": [
        "#### 2.6.1.2 Stop Training When Generalization Error Increases"
      ]
    },
    {
      "cell_type": "markdown",
      "metadata": {
        "id": "HUGjr_AT5wOB"
      },
      "source": [
        "An alternative approach is to train the model once for a large number of training epochs. During training, the model is evaluated on a holdout validation dataset after each epoch. If the performance of the model on the validation dataset starts to degrade (e.g. loss begins to\n",
        "increase or accuracy begins to decrease), then the training process is stopped.\n",
        "\n",
        "When training is stopped, the model is then used and is known to have good generalization performance. This procedure is called **early stopping** and is perhaps one of the **oldest and most widely used forms of neural network regularization**.\n",
        "\n",
        "If regularization methods like weight decay that update the loss function to encourage less complex models are considered explicit regularization, then early stopping may be thought of as a type of implicit regularization, much like using a smaller network that has less capacity."
      ]
    },
    {
      "cell_type": "markdown",
      "metadata": {
        "id": "qrIW72OR6OMD"
      },
      "source": [
        "#### 2.6.1.3 How to stop training early"
      ]
    },
    {
      "cell_type": "markdown",
      "metadata": {
        "id": "My89oH2i6ojK"
      },
      "source": [
        "**Early stopping** requires that you configure your network to be under constrained, **meaning that it has more capacity than is required for the problem**. \n",
        "\n",
        "When training the network, a larger\n",
        "number of training epochs is used than may normally be required, to give the network plenty of opportunity to fit, then begin to overfit the training dataset. There are three elements to using early stopping; they are:\n",
        "\n",
        "- Monitoring model performance.\n",
        "- Trigger to stop training.\n",
        "- The choice of model to use.\n",
        "\n",
        "**Monitoring performance**\n",
        "\n",
        "The performance of the model must be monitored during training. This requires choosing a dataset used to evaluate the model and a metric used to evaluate the model. It is common to split the training dataset and use a subset, such as 30%, as a validation dataset used to monitor the model's performance during training. This validation set is not used to train the model. It is also common to use the loss on a validation dataset as the metric to monitor, although you may also use prediction error in the case of regression, or accuracy in \n",
        "classication.\n",
        "\n",
        "The loss of the model on the training dataset will also be available as part of the training procedure, and additional metrics may also be calculated and monitored on the training dataset. Performance of the model is evaluated on the validation set at the end of each epoch, which\n",
        "adds computational cost during training. This can be reduced by evaluating the model less frequently, such as every 2, 5, or 10 training epochs.\n",
        "\n",
        "**Early Stopping Trigger**\n",
        "\n",
        "Once a scheme for evaluating the model is selected, a trigger for stopping the training process must be chosen. The trigger will use a monitored performance metric to decide when to stop training. This is often the performance of the model on the holdout dataset, such as the loss. \n",
        "\n",
        "In the simplest case, training is stopped as soon as the performance on the validation dataset decreases compared to the performance on the validation dataset at the prior training epoch (e.g. an increase in loss). More elaborate triggers may be required in practice. This is because the training of a neural network is stochastic and can be noisy. Plotted on a graph, a model's performance on a validation dataset may go up and down many times. This means that the first sign of overtting may not be a good place to stop training.\n",
        "\n",
        "**Some more elaborate triggers may include**:\n",
        "\n",
        "- No change in metric over a given number of epochs.\n",
        "- An absolute change in a metric.\n",
        "- A decrease in performance observed over a given number of epochs.\n",
        "- Average change in metric over a given number of epochs.\n",
        "\n",
        "Some delay or patience in stopping is almost always a good idea.\n",
        "\n",
        "\n",
        "**Model Choice**\n",
        "\n",
        "When training is halted, the model is known to have a slightly worse generalization error than a prior epoch model. As such, some consideration may need to be given as to exactly which model is saved. \n",
        "\n",
        "Specifically, the training epoch from which weights in the model\n",
        "are saved to file. This will depend on the trigger chosen to stop the training process. For example:\n",
        "\n",
        "- If the trigger is a simple decrease in performance from one epoch to the next, then the weights for the model at the prior epoch will be preferred. \n",
        "- If the trigger is required to observe a decrease in performance over a fixed number of epochs, then the model at the beginning of the trigger period will be preferred. \n",
        "\n",
        "> **Perhaps a simple approach** is to ,<font color='red'>always save the model weights if the model's performance on a holdout dataset is better than at the previous epoch</font>. That way, you will always have the model with the best performance on the holdout set."
      ]
    },
    {
      "cell_type": "markdown",
      "metadata": {
        "id": "Q9VoJruX8ekC"
      },
      "source": [
        "### 2.6.2 Early Stopping Case Study"
      ]
    },
    {
      "cell_type": "code",
      "metadata": {
        "id": "X4CFYWrgGn3T"
      },
      "source": [
        "# scatter plot of moons dataset\n",
        "from sklearn.datasets import make_moons\n",
        "import matplotlib.pyplot as plt\n",
        "import numpy as np\n",
        "\n",
        "# generate 2d classification dataset\n",
        "x, y = make_moons(n_samples=100, noise=0.2, random_state=1)\n",
        "# scatter plot for each class value\n",
        "\n",
        "for class_value in range(2):\n",
        "\t# select indices of points with the class label\n",
        "\trow_ix = np.where(y == class_value)\n",
        "\t# scatter plot for points with a different color\n",
        "\tplt.scatter(x[row_ix, 0], x[row_ix, 1])\n",
        "# show plot\n",
        "plt.show()"
      ],
      "execution_count": null,
      "outputs": []
    },
    {
      "cell_type": "markdown",
      "metadata": {
        "id": "6TQUQB5DG6OM"
      },
      "source": [
        "#### 2.6.2.1 Overfit Multilayer Perceptron"
      ]
    },
    {
      "cell_type": "code",
      "metadata": {
        "id": "gfBbaalKHCV7"
      },
      "source": [
        "# mlp overfit on the moons dataset\n",
        "from sklearn.datasets import make_moons\n",
        "from tensorflow.keras.layers import Dense\n",
        "from tensorflow.keras.models import Sequential\n",
        "import matplotlib.pyplot as plt\n",
        "\n",
        "# generate 2d classification dataset\n",
        "x, y = make_moons(n_samples=100, noise=0.2, random_state=1)\n",
        "\n",
        "# split into train and test\n",
        "n_train = 30\n",
        "train_x, test_x = x[:n_train, :], x[n_train:, :]\n",
        "train_y, test_y = y[:n_train], y[n_train:]\n",
        "\n",
        "# define model\n",
        "model = Sequential()\n",
        "model.add(Dense(500, input_dim=2, activation='relu'))\n",
        "model.add(Dropout(0.1))\n",
        "model.add(Dense(1, activation='sigmoid'))\n",
        "model.compile(loss='binary_crossentropy', optimizer='adam', metrics=['accuracy'])\n",
        "\n",
        "# fit model\n",
        "history = model.fit(train_x, train_y,\n",
        "                    validation_data=(test_x, test_y),\n",
        "                    epochs=4000, verbose=0, callbacks=[early])\n",
        "\n",
        "# evaluate the model\n",
        "_, train_acc = model.evaluate(train_x, train_y, verbose=0)\n",
        "_, test_acc = model.evaluate(test_x, test_y, verbose=0)\n",
        "print('Train: %.3f, Test: %.3f' % (train_acc, test_acc))\n",
        "\n",
        "# plot loss learning curves\n",
        "plt.subplot(211)\n",
        "plt.title('Cross-Entropy Loss', pad=-40)\n",
        "plt.plot(history.history['loss'], label='train')\n",
        "plt.plot(history.history['val_loss'], label='test')\n",
        "plt.legend()\n",
        "\n",
        "# plot accuracy learning curves\n",
        "plt.subplot(212)\n",
        "plt.title('Accuracy', pad=-40)\n",
        "plt.plot(history.history['accuracy'], label='train')\n",
        "plt.plot(history.history['val_accuracy'], label='test')\n",
        "plt.legend()\n",
        "plt.tight_layout()\n",
        "plt.show()"
      ],
      "execution_count": null,
      "outputs": []
    },
    {
      "cell_type": "markdown",
      "metadata": {
        "id": "jqKQznnOHhwu"
      },
      "source": [
        "#### 2.6.2.2 Overfit MLP with early stopping"
      ]
    },
    {
      "cell_type": "code",
      "metadata": {
        "id": "YtGvXwyfH8Xq"
      },
      "source": [
        "# mlp overfit on the moons dataset with simple early stopping\n",
        "from sklearn.datasets import make_moons\n",
        "from tensorflow.keras.models import Sequential\n",
        "from tensorflow.keras.layers import Dense\n",
        "from tensorflow.keras.callbacks import EarlyStopping\n",
        "import matplotlib.pyplot as plt\n",
        "\n",
        "# generate 2d classification dataset\n",
        "x, y = make_moons(n_samples=100, noise=0.2, random_state=1)\n",
        "\n",
        "# split into train and test\n",
        "n_train = 30\n",
        "train_x, test_x = x[:n_train, :], x[n_train:, :]\n",
        "train_y, test_y = y[:n_train], y[n_train:]\n",
        "\n",
        "# define model\n",
        "model = Sequential()\n",
        "model.add(Dense(500, input_dim=2, activation='relu'))\n",
        "model.add(Dropout(0.1))\n",
        "model.add(Dense(1, activation='sigmoid'))\n",
        "model.compile(loss='binary_crossentropy', optimizer='adam', metrics=['accuracy'])\n",
        "# simple early stopping\n",
        "es = EarlyStopping(monitor='val_loss', mode='min', verbose=1)\n",
        "\n",
        "# fit model\n",
        "history = model.fit(train_x, train_y,\n",
        "                    validation_data=(test_x, test_y),\n",
        "                    epochs=4000, verbose=0, callbacks=[es,early])\n",
        "\n",
        "# evaluate the model\n",
        "_, train_acc = model.evaluate(train_x, train_y, verbose=0)\n",
        "_, test_acc = model.evaluate(test_x, test_y, verbose=0)\n",
        "print('Train: %.3f, Test: %.3f' % (train_acc, test_acc))\n",
        "\n",
        "# plot loss learning curves\n",
        "plt.subplot(211)\n",
        "plt.title('Cross-Entropy Loss', pad=-40)\n",
        "plt.plot(history.history['loss'], label='train')\n",
        "plt.plot(history.history['val_loss'], label='test')\n",
        "plt.legend()\n",
        "\n",
        "# plot accuracy learning curves\n",
        "plt.subplot(212)\n",
        "plt.title('Accuracy', pad=-40)\n",
        "plt.plot(history.history['accuracy'], label='train')\n",
        "plt.plot(history.history['val_accuracy'], label='test')\n",
        "plt.legend()\n",
        "plt.tight_layout()\n",
        "plt.show()"
      ],
      "execution_count": null,
      "outputs": []
    },
    {
      "cell_type": "markdown",
      "metadata": {
        "id": "a85ywHUcItgA"
      },
      "source": [
        "We can also see that the callback stopped training at epoch 239. This is too early as we would expect an early stop to be around epoch 800. This is also highlighted by the classification accuracy on both the train and test sets, which is worse than no early stopping.\n",
        "\n",
        "Reviewing the line plot of train and test loss, we can indeed see that training was stopped at the point when validation loss began to plateau for the \ffirst time.\n",
        "\n",
        "We can improve the trigger for early stopping by waiting a while before stopping. This can be achieved by setting the **patience** argument. In this case, we will wait 200 epochs before training is stopped. Specifically, this means that we will allow training to continue for up to an\n",
        "additional 200 epochs after the point that validation loss started to degrade, giving the training process an opportunity to get across  at spots or find some additional improvement."
      ]
    },
    {
      "cell_type": "code",
      "metadata": {
        "id": "avCBvv0IJH9M"
      },
      "source": [
        "# mlp overfit on the moons dataset with patient early stopping\n",
        "from sklearn.datasets import make_moons\n",
        "from tensorflow.keras.models import Sequential\n",
        "from tensorflow.keras.layers import Dense\n",
        "from tensorflow.keras.callbacks import EarlyStopping\n",
        "import matplotlib.pyplot as plt\n",
        "\n",
        "# generate 2d classification dataset\n",
        "x, y = make_moons(n_samples=100, noise=0.2, random_state=1)\n",
        "\n",
        "# split into train and test\n",
        "n_train = 30\n",
        "train_x, test_x = x[:n_train, :], x[n_train:, :]\n",
        "train_y, test_y = y[:n_train], y[n_train:]\n",
        "\n",
        "# define model\n",
        "model = Sequential()\n",
        "model.add(Dense(500, input_dim=2, activation='relu'))\n",
        "model.add(Dropout(0.1))\n",
        "model.add(Dense(1, activation='sigmoid'))\n",
        "model.compile(loss='binary_crossentropy', optimizer='adam', metrics=['accuracy'])\n",
        "# patient early stopping\n",
        "es = EarlyStopping(monitor='val_loss', mode='min', verbose=1, patience=200)\n",
        "# fit model\n",
        "history = model.fit(train_x, train_y,\n",
        "                    validation_data=(test_x, test_y),\n",
        "                    epochs=4000, verbose=0, callbacks=[es,early])\n",
        "\n",
        "# evaluate the model\n",
        "_, train_acc = model.evaluate(train_x, train_y, verbose=0)\n",
        "_, test_acc = model.evaluate(test_x, test_y, verbose=0)\n",
        "print('Train: %.3f, Test: %.3f' % (train_acc, test_acc))\n",
        "\n",
        "# plot loss learning curves\n",
        "plt.subplot(211)\n",
        "plt.title('Cross-Entropy Loss', pad=-40)\n",
        "plt.plot(history.history['loss'], label='train')\n",
        "plt.plot(history.history['val_loss'], label='test')\n",
        "plt.legend()\n",
        "\n",
        "# plot accuracy learning curves\n",
        "plt.subplot(212)\n",
        "plt.title('Accuracy', pad=-40)\n",
        "plt.plot(history.history['accuracy'], label='train')\n",
        "plt.plot(history.history['val_accuracy'], label='test')\n",
        "plt.legend()\n",
        "plt.tight_layout()\n",
        "plt.show()"
      ],
      "execution_count": null,
      "outputs": []
    },
    {
      "cell_type": "markdown",
      "metadata": {
        "id": "_I5WEzgOKDwe"
      },
      "source": [
        "Running the example, we can see that training was stopped much later, in this case just before epoch 1,000. We can also see that the performance on the test dataset is better than not using any early\n",
        "stopping. Reviewing the line plot of loss during training, we can see that the patience allowed the training to progress past some small at and bad spots.\n",
        "\n",
        "We can also see that test loss started to increase again in the last approximately 100 epochs. This means that although the model's performance has improved, we may not have the\n",
        "best performing or most stable model at the end of training. We can address this by using a **ModelChecckpoint callback**. In this case, we are interested in saving the model with the best accuracy on the test dataset. We could also seek the model with the best loss on the test\n",
        "dataset, but this may or may not correspond to the best accuracy model.\n",
        "\n",
        "This highlights an important concept in model selection. The notion of the best model during training may conflict when evaluated using different performance measures. \n",
        "\n",
        "> Try to choose models based on the metric by which they will be evaluated and presented in the domain. \n",
        "\n",
        "In a balanced binary classication problem, this will most likely be classification accuracy. Therefore, we will use accuracy on the validation in the **ModelCheckpoint callback** to save the best model observed during training.\n",
        "\n",
        "```python\n",
        "mc = ModelCheckpoint('best_model.h5', monitor='val_accuracy', mode='max', verbose=1,\n",
        "save_best_only=True)\n",
        "```"
      ]
    },
    {
      "cell_type": "code",
      "metadata": {
        "id": "SBX3R0XIKabv"
      },
      "source": [
        "# mlp overfit on the moons dataset with patient early stopping and model checkpointing\n",
        "from sklearn.datasets import make_moons\n",
        "from tensorflow.keras.models import Sequential\n",
        "from tensorflow.keras.layers import Dense\n",
        "from tensorflow.keras.callbacks import EarlyStopping\n",
        "from tensorflow.keras.callbacks import ModelCheckpoint\n",
        "from tensorflow.keras.models import load_model\n",
        "\n",
        "# generate 2d classification dataset\n",
        "x, y = make_moons(n_samples=100, noise=0.2, random_state=1)\n",
        "\n",
        "# split into train and test\n",
        "n_train = 30\n",
        "train_x, test_x = x[:n_train, :], x[n_train:, :]\n",
        "train_y, test_y = y[:n_train], y[n_train:]\n",
        "\n",
        "# define model\n",
        "model = Sequential()\n",
        "model.add(Dense(500, input_dim=2, activation='relu'))\n",
        "model.add(Dropout(0.1))\n",
        "model.add(Dense(1, activation='sigmoid'))\n",
        "model.compile(loss='binary_crossentropy', optimizer='adam', metrics=['accuracy'])\n",
        "\n",
        "# simple early stopping\n",
        "es = EarlyStopping(monitor='val_loss', mode='min', verbose=1, patience=200)\n",
        "mc = ModelCheckpoint('best_model.h5', monitor='val_accuracy',\n",
        "                     mode='max', verbose=1, save_best_only=True)\n",
        "\n",
        "# fit model\n",
        "history = model.fit(train_x, train_y,\n",
        "                    validation_data=(test_x, test_y),\n",
        "                    epochs=4000, verbose=0, callbacks=[es, mc,early])\n",
        "\n",
        "# load the saved model\n",
        "saved_model = load_model('best_model.h5')\n",
        "\n",
        "# evaluate the model\n",
        "_, train_acc = saved_model.evaluate(train_x, train_y, verbose=0)\n",
        "_, test_acc = saved_model.evaluate(test_x, test_y, verbose=0)\n",
        "print('Train: %.3f, Test: %.3f' % (train_acc, test_acc))\n"
      ],
      "execution_count": null,
      "outputs": []
    },
    {
      "cell_type": "markdown",
      "metadata": {
        "id": "l7uZu4C7Lnnl"
      },
      "source": [
        "Running the example, we can see the verbose output from the ModelCheckpoint callback\n",
        "for both when a new best model is saved and from when no improvement was observed. We can see that the best model was observed at epoch 956 during this run.\n",
        "\n",
        "Again, we can see that early stopping continued patiently until after epoch 1,105. Note that\n",
        "epoch 956 + a patience of 200 is not epoch 1,105. \n",
        "\n",
        "> Recall that early stopping is monitoring loss on the validation dataset and that the model checkpoint is saving models based on accuracy. As such, the patience of early stopping started at an epoch other than 956.\n",
        "\n",
        "In this case, we don't see any further improvement in model accuracy on the test dataset. Nevertheless, **we have followed a good practice**. \n",
        "\n",
        "> <font color='red'> Why not monitor validation accuracy for early\n",
        "stopping?</font>\n",
        "\n",
        "**This is a good question**. The main reason is that accuracy is a coarse measure of model performance during training and that **loss provides more nuance** when using early\n",
        "stopping with classification problems. The same measure may be used for early stopping and model checkpointing in the case of regression, such as mean squared error."
      ]
    },
    {
      "cell_type": "code",
      "metadata": {
        "id": "p_jqNCkNOD5A"
      },
      "source": [
        ""
      ],
      "execution_count": null,
      "outputs": []
    }
  ]
}